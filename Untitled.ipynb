{
 "cells": [
  {
   "cell_type": "markdown",
   "id": "ff45b7c1-0be1-4aaf-be67-8b0e2cfb1267",
   "metadata": {},
   "source": [
    "## **Eduardo Carrasco Vidal** <img src=\"img/logo.png\" align=\"right\" style=\"width: 120px;\"/>\n",
    "\n",
    "**Magister en Inteligencia Artificial, Universidad Adolfo Ibáñez.**\n",
    "\n",
    "**Profesor:** Jorge Vásquez.\n",
    "**Curso:** Aprendizaje Reforzado (Reinforcement Learning).\n",
    "\n",
    "Enlace al repositorio del alumno en [GitHub](https://github.com/educarrascov/MIA_DeepLearning) _@educarrascov_\n",
    "\n",
    "![Python](https://img.shields.io/badge/python-%2314354C.svg) "
   ]
  },
  {
   "cell_type": "code",
   "execution_count": 3,
   "id": "4953c337-e730-4b8a-a01b-f2a9dff5ecc9",
   "metadata": {},
   "outputs": [],
   "source": [
    "# pip install gym pygame"
   ]
  },
  {
   "cell_type": "markdown",
   "id": "1b7d1a42-73b1-4dc1-972d-27fccb7d672f",
   "metadata": {},
   "source": [
    "## Espacio de Acciones y Estados:\n",
    "\n",
    "- Los Entornos vienen con las variables `state_space` y `action_space`. \n",
    "- `state_space` también lo llaman `observation_space`.\n",
    "- `state` es la información que le da el entorno al agent."
   ]
  },
  {
   "cell_type": "markdown",
   "id": "e5e8de75-64e7-40d4-a25b-483633374694",
   "metadata": {},
   "source": [
    "Classic cart-pole system implemented by Rich Sutton et al.\n",
    "Copied from http://incompleteideas.net/sutton/book/code/pole.c\n",
    "permalink: https://perma.cc/C9ZM-652R"
   ]
  },
  {
   "cell_type": "code",
   "execution_count": 1,
   "id": "a0747def-628a-468b-944b-c80bf39efc98",
   "metadata": {},
   "outputs": [],
   "source": [
    "import numpy as np\n",
    "import gym\n",
    "import pygame\n",
    "import math, time\n",
    "import random\n",
    "import typing"
   ]
  },
  {
   "cell_type": "markdown",
   "id": "17f70ede-372d-434d-b5bc-d19840af812c",
   "metadata": {},
   "source": [
    "## 1. Generación del ambiente:\n",
    "En este caso, de los entornos disponibles, seleccionamos el CartPole-v0, _dará una alarma de que está pasado de moda y que se debe usar el v1 mejor, pero está bien_."
   ]
  },
  {
   "cell_type": "code",
   "execution_count": 9,
   "id": "41abce26-38fc-45c1-8495-0cea19642701",
   "metadata": {},
   "outputs": [],
   "source": [
    "env = gym.make('CartPole-v1')"
   ]
  },
  {
   "cell_type": "markdown",
   "id": "e816dd9f-c4e6-41e6-ac65-d50e8b9664f7",
   "metadata": {},
   "source": [
    "## 2. Visualización del Ambiente:"
   ]
  },
  {
   "cell_type": "code",
   "execution_count": null,
   "id": "6bd2b872-d159-455b-ac1e-d40b7e6988e8",
   "metadata": {},
   "outputs": [],
   "source": [
    "\n",
    "policy = lambda obs: 1\n",
    "\n",
    "for _ in range(3):\n",
    "    State = env.reset() #Resetear el entorno a su estado inicial\n",
    "    for _ in range(80):\n",
    "        actions = policy(State) # escoger la acción, vector que incluye action_space\n",
    "        State, rewards, done, info = env.step(actions)\n",
    "        env.render()\n",
    "        time.sleep(0.05)\n",
    "env.close()"
   ]
  },
  {
   "cell_type": "code",
   "execution_count": 7,
   "id": "13074294-1f68-40b5-8968-2ec47a32ffd1",
   "metadata": {},
   "outputs": [
    {
     "data": {
      "text/plain": [
       "\u001b[0;31mType:\u001b[0m           OrderEnforcing\n",
       "\u001b[0;31mString form:\u001b[0m    <OrderEnforcing<CartPoleEnv<CartPole-v1>>>\n",
       "\u001b[0;31mFile:\u001b[0m           ~/.local/share/virtualenvs/eduardo-BbA8MaND/lib/python3.9/site-packages/gym/wrappers/order_enforcing.py\n",
       "\u001b[0;31mDocstring:\u001b[0m     \n",
       "A wrapper that will produce an error if :meth:`step` is called before an initial :meth:`reset`.\n",
       "\n",
       "Example:\n",
       "    >>> from gym.envs.classic_control import CartPoleEnv\n",
       "    >>> env = CartPoleEnv()\n",
       "    >>> env = OrderEnforcing(env)\n",
       "    >>> env.step(0)\n",
       "    ResetNeeded: Cannot call env.step() before calling env.reset()\n",
       "    >>> env.render()\n",
       "    ResetNeeded: Cannot call env.render() before calling env.reset()\n",
       "    >>> env.reset()\n",
       "    >>> env.render()\n",
       "    >>> env.step(0)\n",
       "\u001b[0;31mInit docstring:\u001b[0m\n",
       "A wrapper that will produce an error if :meth:`step` is called before an initial :meth:`reset`.\n",
       "\n",
       "Args:\n",
       "    env: The environment to wrap\n",
       "    disable_render_order_enforcing: If to disable render order enforcing\n"
      ]
     },
     "metadata": {},
     "output_type": "display_data"
    }
   ],
   "source": [
    "?env.env"
   ]
  },
  {
   "cell_type": "code",
   "execution_count": null,
   "id": "1be206a8-4ebc-4e6b-9747-35565c7760a2",
   "metadata": {},
   "outputs": [],
   "source": []
  }
 ],
 "metadata": {
  "kernelspec": {
   "display_name": "Python 3 (ipykernel)",
   "language": "python",
   "name": "python3"
  },
  "language_info": {
   "codemirror_mode": {
    "name": "ipython",
    "version": 3
   },
   "file_extension": ".py",
   "mimetype": "text/x-python",
   "name": "python",
   "nbconvert_exporter": "python",
   "pygments_lexer": "ipython3",
   "version": "3.9.6"
  }
 },
 "nbformat": 4,
 "nbformat_minor": 5
}
